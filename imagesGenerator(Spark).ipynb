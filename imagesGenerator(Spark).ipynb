{
 "cells": [
  {
   "cell_type": "code",
   "execution_count": 1,
   "id": "6ccb0735",
   "metadata": {},
   "outputs": [],
   "source": [
    "import numpy as np\n",
    "import cv2\n",
    "import os\n",
    "import PIL\n",
    "import pathlib\n",
    "from PIL import Image\n",
    "import pyspark\n",
    "from pyspark import SparkContext\n",
    "import time"
   ]
  },
  {
   "cell_type": "code",
   "execution_count": 2,
   "id": "9188fd77",
   "metadata": {},
   "outputs": [],
   "source": [
    "def returnName(url):\n",
    "    flag = 0\n",
    "    aux  = len(url)\n",
    "    name = ''\n",
    "    for i in np.arange(len(url)):\n",
    "        if url[i] == 'I' :\n",
    "            j = i\n",
    "            while(aux > 0):\n",
    "                name = name + url[j]\n",
    "                j    = j + 1\n",
    "                aux  = aux - 1\n",
    "            return name\n",
    "        aux = aux - 1"
   ]
  },
  {
   "cell_type": "code",
   "execution_count": 3,
   "id": "6e21e514",
   "metadata": {},
   "outputs": [],
   "source": [
    "#Se define la ruta del directorio que contiene las imágenes.\n",
    "data_dir = 'tilapias'\n",
    "data_dir = pathlib.Path(data_dir)"
   ]
  },
  {
   "cell_type": "code",
   "execution_count": 4,
   "id": "38e875d2",
   "metadata": {},
   "outputs": [
    {
     "data": {
      "text/plain": [
       "[WindowsPath('tilapias/Hembras/IMG_2461.JPG'),\n",
       " WindowsPath('tilapias/Hembras/IMG_2462.JPG'),\n",
       " WindowsPath('tilapias/Hembras/IMG_2463.JPG'),\n",
       " WindowsPath('tilapias/Hembras/IMG_2464.JPG'),\n",
       " WindowsPath('tilapias/Machos/IMG_2446.JPG')]"
      ]
     },
     "execution_count": 4,
     "metadata": {},
     "output_type": "execute_result"
    }
   ],
   "source": [
    "list(data_dir.glob('*/*.JPG'))[:5]"
   ]
  },
  {
   "cell_type": "code",
   "execution_count": 5,
   "id": "797479ee",
   "metadata": {},
   "outputs": [],
   "source": [
    "#Se clasifican las imágenes en las clases \"Hembras\" y \"Machos\".\n",
    "tilapias_images_dict = {\n",
    "    'Hembras': list(data_dir.glob('Hembras/*')),\n",
    "    'Machos' : list(data_dir.glob('Machos/*')),\n",
    "}"
   ]
  },
  {
   "cell_type": "code",
   "execution_count": 6,
   "id": "eb31d865",
   "metadata": {},
   "outputs": [],
   "source": [
    "#Se instancía SparkContext para poder realizar utilizar todos los métodos que nos provee\n",
    "#y que se utilizarán en adelante.\n",
    "sc   = SparkContext()\n",
    "#El primer argumento es la colección de paths de la clase, y el segundo argumento es un\n",
    "#parámetro que define el número de particiones que se crearán \n",
    "RDDM = sc.parallelize(tilapias_images_dict['Machos'],4)\n",
    "RDDH = sc.parallelize(tilapias_images_dict['Hembras'],4)"
   ]
  },
  {
   "cell_type": "code",
   "execution_count": 7,
   "id": "3d1e7b1f",
   "metadata": {},
   "outputs": [
    {
     "data": {
      "text/plain": [
       "[WindowsPath('tilapias/Machos/IMG_2446.JPG'),\n",
       " WindowsPath('tilapias/Machos/IMG_2447.JPG'),\n",
       " WindowsPath('tilapias/Machos/IMG_2448.JPG'),\n",
       " WindowsPath('tilapias/Machos/IMG_2449.JPG')]"
      ]
     },
     "execution_count": 7,
     "metadata": {},
     "output_type": "execute_result"
    }
   ],
   "source": [
    "RDDM.collect()"
   ]
  },
  {
   "cell_type": "code",
   "execution_count": 8,
   "id": "806451bf",
   "metadata": {},
   "outputs": [
    {
     "data": {
      "text/plain": [
       "[WindowsPath('tilapias/Hembras/IMG_2461.JPG'),\n",
       " WindowsPath('tilapias/Hembras/IMG_2462.JPG'),\n",
       " WindowsPath('tilapias/Hembras/IMG_2463.JPG'),\n",
       " WindowsPath('tilapias/Hembras/IMG_2464.JPG')]"
      ]
     },
     "execution_count": 8,
     "metadata": {},
     "output_type": "execute_result"
    }
   ],
   "source": [
    "RDDH.collect()"
   ]
  },
  {
   "cell_type": "code",
   "execution_count": 10,
   "id": "9ad31713",
   "metadata": {},
   "outputs": [],
   "source": [
    "RDDH.foreach(lambda x: print(x)) "
   ]
  },
  {
   "cell_type": "code",
   "execution_count": 11,
   "id": "ad848c61",
   "metadata": {},
   "outputs": [],
   "source": [
    "#NombreImagen -> Nombre del path de la imágen a editar.\n",
    "#Factor       -> Grados que se desea rotar la imágen por iteración en un factor.\n",
    "#Ruta         -> Ruta en la que se encuentran las imágenes.\n",
    "def rotarImagenes(nombreImagen, factor, ruta):\n",
    "    print(\"Entra a funcion de rotar\")\n",
    "    os.chdir(ruta)\n",
    "    factorAux = factor\n",
    "    #Para limpiar el path y dejar el nombre de la imágen.\n",
    "    route = returnName(str(nombreImagen))\n",
    "    #El factor auméntará en cada iteración hasta llegar a 360.\n",
    "    while(factor < 360):\n",
    "        newName = str(factor)\n",
    "        picture = Image.open(route)\n",
    "        newName = newName + route\n",
    "        picture.rotate(factor).save(newName)\n",
    "        factor  = factor +factorAux"
   ]
  },
  {
   "cell_type": "code",
   "execution_count": 12,
   "id": "efab36d3",
   "metadata": {},
   "outputs": [
    {
     "name": "stdout",
     "output_type": "stream",
     "text": [
      " El volumen de la unidad C es Windows\n",
      " El n�mero de serie del volumen es: 2296-934F\n",
      "\n",
      " Directorio de c:\\Users\\austi\\Documents\\OCTAVO SEMESTRE\\Sistemas de computo paralelo y distribuido\\SPD\\Spark\n",
      "\n",
      "25/06/2022  07:52 p. m.    <DIR>          .\n",
      "25/06/2022  07:52 p. m.    <DIR>          ..\n",
      "25/06/2022  07:52 p. m.    <DIR>          .ipynb_checkpoints\n",
      "26/06/2022  12:50 a. m.             8,503 imagesGenerator.ipynb\n",
      "25/06/2022  07:52 p. m.    <DIR>          tilapias\n",
      "               1 archivos          8,503 bytes\n",
      "               4 dirs  229,140,205,568 bytes libres\n"
     ]
    }
   ],
   "source": [
    "ls"
   ]
  },
  {
   "cell_type": "code",
   "execution_count": 13,
   "id": "67bc20a2",
   "metadata": {},
   "outputs": [],
   "source": [
    "registroTiempos = []\n",
    "start = time.time()\n",
    "route = 'tilapias/Hembras'\n",
    "RDDH.foreach(lambda x: rotarImagenes(nombreImagen=x, factor=1, ruta=route)) "
   ]
  },
  {
   "cell_type": "code",
   "execution_count": 14,
   "id": "3c47d8e4",
   "metadata": {},
   "outputs": [
    {
     "name": "stdout",
     "output_type": "stream",
     "text": [
      "106.40552806854248\n"
     ]
    }
   ],
   "source": [
    "\n",
    "route = 'tilapias/Machos'\n",
    "RDDM.foreach(lambda x: rotarImagenes(nombreImagen=x, factor=1, ruta=route)) \n",
    "stop = time.time()\n",
    "registroTiempos.append((stop-start))\n",
    "print(registroTiempos[0])"
   ]
  }
 ],
 "metadata": {
  "kernelspec": {
   "display_name": "Python 3.9.2 64-bit",
   "language": "python",
   "name": "python3"
  },
  "language_info": {
   "codemirror_mode": {
    "name": "ipython",
    "version": 3
   },
   "file_extension": ".py",
   "mimetype": "text/x-python",
   "name": "python",
   "nbconvert_exporter": "python",
   "pygments_lexer": "ipython3",
   "version": "3.9.2"
  },
  "vscode": {
   "interpreter": {
    "hash": "146cd3b7518f873e9ae788719c8d6f5299f63d6426e8f70623f18e662dc25912"
   }
  }
 },
 "nbformat": 4,
 "nbformat_minor": 5
}
